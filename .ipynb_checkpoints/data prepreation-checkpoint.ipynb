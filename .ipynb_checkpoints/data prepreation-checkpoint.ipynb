{
 "cells": [
  {
   "cell_type": "code",
   "execution_count": 1,
   "id": "38aea337-e65d-4286-87f4-7452c99eda45",
   "metadata": {},
   "outputs": [],
   "source": [
    "import pandas as pd\n",
    "\n",
    "def load_dataset(file_path):\n",
    "    \"\"\"\n",
    "    Load the dataset from a CSV file.\n",
    "    Expected columns: 'compound_iso_smiles', 'ProteinID', 'target_sequence', 'Ki , Kd and IC50  (KIBA Score)'.\n",
    "    \"\"\"\n",
    "    data = pd.read_csv(file_path)\n",
    "    smiles = data['compound_iso_smiles'].values\n",
    "    sequences = data['target_sequence'].values\n",
    "    protein_ids = data['ProteinID'].values\n",
    "    kiba_scores = data['Ki , Kd and IC50  (KIBA Score)'].values\n",
    "    return smiles, sequences, protein_ids, kiba_scores\n",
    "\n",
    "# Example usage\n",
    "file_path = 'Kiba.csv'  # Replace with the actual path to your KIBA CSV file\n",
    "smiles, sequences, protein_ids, kiba_scores = load_dataset(file_path)\n"
   ]
  },
  {
   "cell_type": "code",
   "execution_count": 18,
   "id": "aa7b2785-371b-4234-b1fd-8ce167d79166",
   "metadata": {},
   "outputs": [
    {
     "name": "stdout",
     "output_type": "stream",
     "text": [
      "Number of unique SMILES strings: 2068\n",
      "Number of unique protein sequences: 229\n",
      "Total unique interactions: 117657\n"
     ]
    }
   ],
   "source": [
    "import pandas as pd\n",
    "import numpy as np\n",
    "from rdkit import Chem\n",
    "from rdkit.Chem import MolFromSmiles\n",
    "\n",
    "def load_and_preprocess_dataset(file_path):\n",
    "    \"\"\"\n",
    "    Load the dataset from a CSV file, remove duplicate pairs of sequences and SMILES strings,\n",
    "    and return the unique pairs along with their corresponding KIBA scores.\n",
    "    Also returns the unique SMILES strings and unique protein sequences.\n",
    "    \"\"\"\n",
    "    data = pd.read_csv(file_path)\n",
    "    \n",
    "    # Select relevant columns\n",
    "    data = data[['compound_iso_smiles', 'target_sequence', 'Ki , Kd and IC50  (KIBA Score)']]\n",
    "    \n",
    "    # Remove duplicates based on SMILES and target sequence\n",
    "    data_unique_pairs = data.drop_duplicates(subset=['compound_iso_smiles', 'target_sequence'])\n",
    "    \n",
    "    smiles = data_unique_pairs['compound_iso_smiles'].values\n",
    "    sequences = data_unique_pairs['target_sequence'].values\n",
    "    kiba_scores = data_unique_pairs['Ki , Kd and IC50  (KIBA Score)'].values\n",
    "    \n",
    "    # Get unique SMILES strings\n",
    "    unique_smiles = data['compound_iso_smiles'].unique()\n",
    "    \n",
    "    # Get unique protein sequences\n",
    "    unique_sequences = data['target_sequence'].unique()\n",
    "    \n",
    "    return smiles, sequences, kiba_scores, unique_smiles, unique_sequences\n",
    "\n",
    "# Example usage\n",
    "file_path = 'kiba.csv'\n",
    "smiles, sequences, kiba_scores, unique_smiles, unique_sequences = load_and_preprocess_dataset(file_path)\n",
    "\n",
    "print(\"Number of unique SMILES strings:\", len(unique_smiles))\n",
    "print(\"Number of unique protein sequences:\", len(unique_sequences))\n",
    "print(\"Total unique interactions:\", len(kiba_scores))\n"
   ]
  },
  {
   "cell_type": "code",
   "execution_count": null,
   "id": "d0d2cd9d-e5ba-49fd-9ef6-38f72e855750",
   "metadata": {},
   "outputs": [],
   "source": []
  },
  {
   "cell_type": "code",
   "execution_count": null,
   "id": "654d1688-38a8-46c6-aeb2-00dd597fa190",
   "metadata": {},
   "outputs": [],
   "source": []
  }
 ],
 "metadata": {
  "kernelspec": {
   "display_name": "Python 3 (ipykernel)",
   "language": "python",
   "name": "python3"
  },
  "language_info": {
   "codemirror_mode": {
    "name": "ipython",
    "version": 3
   },
   "file_extension": ".py",
   "mimetype": "text/x-python",
   "name": "python",
   "nbconvert_exporter": "python",
   "pygments_lexer": "ipython3",
   "version": "3.9.12"
  }
 },
 "nbformat": 4,
 "nbformat_minor": 5
}
