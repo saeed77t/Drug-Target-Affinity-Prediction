{
 "cells": [
  {
   "cell_type": "code",
   "execution_count": 1,
   "id": "c625a1aa-228b-417f-96b8-c8a544bba4ae",
   "metadata": {},
   "outputs": [],
   "source": [
    "import torch\n",
    "import torch.nn as nn\n",
    "import torch.nn.functional as F\n",
    "from torch_geometric.nn import GCNConv, global_mean_pool\n",
    "\n",
    "# GCN layer as per the authors' style\n",
    "class GCNLayer(nn.Module):\n",
    "    def __init__(self, in_channels, out_channels, dropout=0.2):\n",
    "        super(GCNLayer, self).__init__()\n",
    "        self.gcn = GCNConv(in_channels, out_channels)\n",
    "        self.dropout = dropout\n",
    "        self.batch_norm = nn.BatchNorm1d(out_channels)\n",
    "\n",
    "    def forward(self, x, edge_index):\n",
    "        x = self.gcn(x, edge_index)\n",
    "        x = self.batch_norm(x)\n",
    "        x = F.relu(x)\n",
    "        x = F.dropout(x, p=self.dropout, training=self.training)\n",
    "        return x\n"
   ]
  },
  {
   "cell_type": "code",
   "execution_count": 2,
   "id": "07b24290-834d-4574-9200-a36a3f5c609d",
   "metadata": {},
   "outputs": [],
   "source": [
    "class MoleculeGNN(nn.Module):\n",
    "    def __init__(self, num_features, hidden_dim=128, dropout=0.2):\n",
    "        super(MoleculeGNN, self).__init__()\n",
    "        self.layer1 = GCNLayer(num_features, hidden_dim, dropout)\n",
    "        self.layer2 = GCNLayer(hidden_dim, hidden_dim * 2, dropout)\n",
    "        self.layer3 = GCNLayer(hidden_dim * 2, hidden_dim * 4, dropout)\n",
    "\n",
    "    def forward(self, x, edge_index, batch):\n",
    "        x = self.layer1(x, edge_index)\n",
    "        x = self.layer2(x, edge_index)\n",
    "        x = self.layer3(x, edge_index)\n",
    "        # Global mean pooling\n",
    "        x = global_mean_pool(x, batch)\n",
    "        return x\n",
    "\n",
    "class ProteinGNN(nn.Module):\n",
    "    def __init__(self, num_features, hidden_dim=128, dropout=0.2):\n",
    "        super(ProteinGNN, self).__init__()\n",
    "        self.layer1 = GCNLayer(num_features, hidden_dim, dropout)\n",
    "        self.layer2 = GCNLayer(hidden_dim, hidden_dim * 2, dropout)\n",
    "        self.layer3 = GCNLayer(hidden_dim * 2, hidden_dim * 4, dropout)\n",
    "\n",
    "    def forward(self, x, edge_index, batch):\n",
    "        x = self.layer1(x, edge_index)\n",
    "        x = self.layer2(x, edge_index)\n",
    "        x = self.layer3(x, edge_index)\n",
    "        # Global mean pooling\n",
    "        x = global_mean_pool(x, batch)\n",
    "        return x\n"
   ]
  },
  {
   "cell_type": "code",
   "execution_count": 3,
   "id": "92319b9c-692c-4184-91bf-1495adb934a6",
   "metadata": {},
   "outputs": [],
   "source": [
    "class DTA_GNN(nn.Module):\n",
    "    def __init__(self, mol_input_dim, prot_input_dim, hidden_dim=128, dropout=0.2):\n",
    "        super(DTA_GNN, self).__init__()\n",
    "        self.mol_gnn = MoleculeGNN(mol_input_dim, hidden_dim, dropout)\n",
    "        self.prot_gnn = ProteinGNN(prot_input_dim, hidden_dim, dropout)\n",
    "        # Fully connected layers after concatenation\n",
    "        self.fc1 = nn.Linear(hidden_dim * 8, hidden_dim * 4)\n",
    "        self.fc2 = nn.Linear(hidden_dim * 4, hidden_dim * 2)\n",
    "        self.out = nn.Linear(hidden_dim * 2, 1)\n",
    "        self.dropout = dropout\n",
    "\n",
    "    def forward(self, mol_data, prot_data):\n",
    "        # Molecule GNN\n",
    "        mol_x = self.mol_gnn(mol_data.x, mol_data.edge_index, mol_data.batch)\n",
    "        # Protein GNN\n",
    "        prot_x = self.prot_gnn(prot_data.x, prot_data.edge_index, prot_data.batch)\n",
    "        # Concatenate molecule and protein features\n",
    "        x = torch.cat((mol_x, prot_x), dim=1)\n",
    "        # Fully connected layers with dropout and activation\n",
    "        x = F.relu(self.fc1(x))\n",
    "        x = F.dropout(x, p=self.dropout, training=self.training)\n",
    "        x = F.relu(self.fc2(x))\n",
    "        x = F.dropout(x, p=self.dropout, training=self.training)\n",
    "        # Output layer\n",
    "        out = self.out(x)\n",
    "        return out\n"
   ]
  },
  {
   "cell_type": "code",
   "execution_count": 4,
   "id": "f7d8a177-9ef2-4e1c-af46-46cb8cb1d0b4",
   "metadata": {},
   "outputs": [
    {
     "ename": "ModuleNotFoundError",
     "evalue": "No module named 'lifelines'",
     "output_type": "error",
     "traceback": [
      "\u001b[0;31m---------------------------------------------------------------------------\u001b[0m",
      "\u001b[0;31mModuleNotFoundError\u001b[0m                       Traceback (most recent call last)",
      "Cell \u001b[0;32mIn[4], line 1\u001b[0m\n\u001b[0;32m----> 1\u001b[0m \u001b[38;5;28;01mfrom\u001b[39;00m \u001b[38;5;21;01mlifelines\u001b[39;00m\u001b[38;5;21;01m.\u001b[39;00m\u001b[38;5;21;01mutils\u001b[39;00m \u001b[38;5;28;01mimport\u001b[39;00m concordance_index\n\u001b[1;32m      2\u001b[0m \u001b[38;5;28;01mfrom\u001b[39;00m \u001b[38;5;21;01msklearn\u001b[39;00m\u001b[38;5;21;01m.\u001b[39;00m\u001b[38;5;21;01mmetrics\u001b[39;00m \u001b[38;5;28;01mimport\u001b[39;00m mean_squared_error\n\u001b[1;32m      3\u001b[0m \u001b[38;5;28;01mfrom\u001b[39;00m \u001b[38;5;21;01mscipy\u001b[39;00m\u001b[38;5;21;01m.\u001b[39;00m\u001b[38;5;21;01mstats\u001b[39;00m \u001b[38;5;28;01mimport\u001b[39;00m pearsonr\n",
      "\u001b[0;31mModuleNotFoundError\u001b[0m: No module named 'lifelines'"
     ]
    }
   ],
   "source": [
    "from lifelines.utils import concordance_index\n",
    "from sklearn.metrics import mean_squared_error\n",
    "from scipy.stats import pearsonr\n",
    "\n",
    "def calculate_metrics(y_true, y_pred):\n",
    "    y_true = y_true.flatten()\n",
    "    y_pred = y_pred.flatten()\n",
    "    # Concordance Index\n",
    "    ci = concordance_index(y_true, y_pred)\n",
    "    # Mean Squared Error\n",
    "    mse = mean_squared_error(y_true, y_pred)\n",
    "    # Pearson Correlation Coefficient\n",
    "    pearson_corr, _ = pearsonr(y_true, y_pred)\n",
    "    return ci, mse, pearson_corr\n"
   ]
  },
  {
   "cell_type": "code",
   "execution_count": null,
   "id": "d790bf42-df44-45b0-b1c5-8afc240f2407",
   "metadata": {},
   "outputs": [],
   "source": []
  }
 ],
 "metadata": {
  "kernelspec": {
   "display_name": "Python 3 (ipykernel)",
   "language": "python",
   "name": "python3"
  },
  "language_info": {
   "codemirror_mode": {
    "name": "ipython",
    "version": 3
   },
   "file_extension": ".py",
   "mimetype": "text/x-python",
   "name": "python",
   "nbconvert_exporter": "python",
   "pygments_lexer": "ipython3",
   "version": "3.11.0"
  }
 },
 "nbformat": 4,
 "nbformat_minor": 5
}
